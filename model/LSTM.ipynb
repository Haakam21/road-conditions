{
  "nbformat": 4,
  "nbformat_minor": 0,
  "metadata": {
    "colab": {
      "name": "LSTM.ipynb",
      "provenance": [],
      "collapsed_sections": [],
      "include_colab_link": true
    },
    "kernelspec": {
      "name": "python3",
      "display_name": "Python 3"
    }
  },
  "cells": [
    {
      "cell_type": "markdown",
      "metadata": {
        "id": "view-in-github",
        "colab_type": "text"
      },
      "source": [
        "<a href=\"https://colab.research.google.com/github/Haakam21/unbump-api/blob/master/model/LSTM.ipynb\" target=\"_parent\"><img src=\"https://colab.research.google.com/assets/colab-badge.svg\" alt=\"Open In Colab\"/></a>"
      ]
    },
    {
      "cell_type": "code",
      "metadata": {
        "id": "6d0xJz3VzLOo"
      },
      "source": [
        "from google.colab import auth\n",
        "auth.authenticate_user()\n",
        "\n",
        "import gspread\n",
        "from oauth2client.client import GoogleCredentials\n",
        "\n",
        "spreadsheets = gspread.authorize(GoogleCredentials.get_application_default())"
      ],
      "execution_count": null,
      "outputs": []
    },
    {
      "cell_type": "code",
      "metadata": {
        "id": "ASdgLIt2s-ux",
        "outputId": "1572574f-ff49-4789-9d68-66b833732e8c",
        "colab": {
          "base_uri": "https://localhost:8080/",
          "height": 263
        }
      },
      "source": [
        "sheet = spreadsheets.open('Pothole Data').sheet1\n",
        "rows = sheet.get_all_values()\n",
        "columns = rows.pop(0)\n",
        "\n",
        "import pandas as pd\n",
        "\n",
        "features = ['acc_y', 'acc_z', 'acc_dy', 'acc_dz']#, 'spd']\n",
        "target = 'pothole'\n",
        "\n",
        "df = pd.DataFrame(rows, columns=columns)\n",
        "print(df)"
      ],
      "execution_count": null,
      "outputs": []
    },
    {
      "cell_type": "code",
      "metadata": {
        "id": "dzqgFmWDa9O6"
      },
      "source": [
        "data = df[features].astype('float64').to_numpy()\n",
        "targets = df[target].astype('int64').to_numpy()\n",
        "\n",
        "\n",
        "window_size = 10\n",
        "train_split = 8000\n",
        "batch_size = 256\n",
        "\n",
        "\n",
        "from tensorflow.keras import preprocessing\n",
        "\n",
        "train_data_gen = preprocessing.sequence.TimeseriesGenerator(data, targets, window_size, start_index=0, end_index=train_split, shuffle=False, batch_size=batch_size)\n",
        "val_data_gen = preprocessing.sequence.TimeseriesGenerator(data, targets, window_size, start_index=train_split, end_index=None, shuffle=False, batch_size=batch_size)\n"
      ],
      "execution_count": null,
      "outputs": []
    },
    {
      "cell_type": "code",
      "metadata": {
        "id": "SjpTOcv-rFXX",
        "outputId": "6a246446-45a3-44c8-8558-04bae18a6e8c",
        "colab": {
          "base_uri": "https://localhost:8080/",
          "height": 1000
        }
      },
      "source": [
        "from tensorflow.keras import models, layers\n",
        "\n",
        "model = models.Sequential([\n",
        "    layers.LSTM(64, return_sequences=True, input_shape=(window_size, len(features))),\n",
        "    layers.LSTM(32, return_sequences=True),\n",
        "    layers.LSTM(16),\n",
        "    layers.Dense(1, activation='sigmoid')\n",
        "])\n",
        "\n",
        "import tensorflow.keras.backend as K\n",
        "\n",
        "def f1_loss(y_true, y_pred):\n",
        "    \n",
        "    tp = K.sum(K.cast(y_true*y_pred, 'float'), axis=0)\n",
        "    tn = K.sum(K.cast((1-y_true)*(1-y_pred), 'float'), axis=0)\n",
        "    fp = K.sum(K.cast((1-y_true)*y_pred, 'float'), axis=0)\n",
        "    fn = K.sum(K.cast(y_true*(1-y_pred), 'float'), axis=0)\n",
        "\n",
        "    p = tp / (tp + fp + K.epsilon())\n",
        "    r = tp / (tp + fn + K.epsilon())\n",
        "\n",
        "    f1 = 2*p*r / (p+r+K.epsilon())\n",
        "    f1 = tf.where(tf.math.is_nan(f1), tf.zeros_like(f1), f1)\n",
        "    return 1 - K.mean(f1)\n",
        "\n",
        "def f1(y_true, y_pred):\n",
        "    y_pred = K.round(y_pred)\n",
        "    tp = K.sum(K.cast(y_true*y_pred, 'float'), axis=0)\n",
        "    tn = K.sum(K.cast((1-y_true)*(1-y_pred), 'float'), axis=0)\n",
        "    fp = K.sum(K.cast((1-y_true)*y_pred, 'float'), axis=0)\n",
        "    fn = K.sum(K.cast(y_true*(1-y_pred), 'float'), axis=0)\n",
        "\n",
        "    p = tp / (tp + fp + K.epsilon())\n",
        "    r = tp / (tp + fn + K.epsilon())\n",
        "\n",
        "    f1 = 2*p*r / (p+r+K.epsilon())\n",
        "    f1 = tf.where(tf.math.is_nan(f1), tf.zeros_like(f1), f1)\n",
        "    return K.mean(f1)\n",
        "\n",
        "import tensorflow.keras.metrics as metrics\n",
        "\n",
        "model.compile(optimizer='adam', loss=f1_loss, metrics=[f1, 'accuracy', metrics.AUC()])\n",
        "\n",
        "model.summary()\n",
        "\n",
        "epochs = 50\n",
        "train = model.fit(train_data_gen, validation_data=val_data_gen, epochs=epochs)"
      ],
      "execution_count": null,
      "outputs": []
    },
    {
      "cell_type": "code",
      "metadata": {
        "id": "KKKaMe6GyCCP",
        "outputId": "fc4f28b4-7335-4d01-a0e4-d9a55469cd15",
        "colab": {
          "base_uri": "https://localhost:8080/",
          "height": 585
        }
      },
      "source": [
        "history = pd.DataFrame(train.history)\n",
        "\n",
        "from matplotlib import pyplot as plt\n",
        "\n",
        "plt.figure(figsize=(8, 8))\n",
        "\n",
        "plt.subplot(2, 2, 1)\n",
        "plt.plot(history['loss'], label='train')\n",
        "plt.plot(history['val_loss'], label='val')\n",
        "plt.xlabel('epoch')\n",
        "plt.legend(loc='upper right')\n",
        "plt.title('loss')\n",
        "\n",
        "plt.subplot(2, 2, 2)\n",
        "plt.plot(history['f1'], label='train')\n",
        "plt.plot(history['val_f1'], label='val')\n",
        "plt.xlabel('epoch')\n",
        "plt.legend(loc='lower right')\n",
        "plt.title('f1')\n",
        "\n",
        "plt.subplot(2, 2, 3)\n",
        "plt.plot(history['accuracy'], label='train')\n",
        "plt.plot(history['val_accuracy'], label='val')\n",
        "plt.xlabel('epoch')\n",
        "plt.legend(loc='lower right')\n",
        "plt.title('accuracy')\n",
        "\n",
        "plt.subplot(2, 2, 4)\n",
        "plt.plot(history['auc'], label='train')\n",
        "plt.plot(history['val_auc'], label='val')\n",
        "plt.xlabel('epoch')\n",
        "plt.legend(loc='upper right')\n",
        "plt.title('auc')\n",
        "\n",
        "plt.tight_layout()\n",
        "plt.show()"
      ],
      "execution_count": null,
      "outputs": []
    },
    {
      "cell_type": "code",
      "metadata": {
        "id": "JFjHSnE93XjZ",
        "outputId": "88167a82-8c5e-470c-e5a4-19f4fcf6fafa",
        "colab": {
          "base_uri": "https://localhost:8080/",
          "height": 1000
        }
      },
      "source": [
        "train_data = data[:train_split]\n",
        "train_targets = targets[:train_split]\n",
        "\n",
        "val_data = data[train_split:]\n",
        "val_targets = targets[train_split:]\n",
        "\n",
        "from imblearn.over_sampling import SMOTE\n",
        "#NOW TRYING THIS WITH OVERSAMPLING THE DATA\n",
        "sm = SMOTE(random_state=12, ratio = 1)\n",
        "SMOTE_data, SMOTE_targets = sm.fit_sample(train_data, train_targets)\n",
        "\n",
        "train_data_SMOTE = preprocessing.sequence.TimeseriesGenerator(SMOTE_data, SMOTE_targets, window_size, start_index=0, end_index=None, shuffle=False, batch_size=batch_size)\n",
        "val_data_SMOTE = preprocessing.sequence.TimeseriesGenerator(val_data, val_targets, window_size, start_index=0, end_index=None, shuffle=False, batch_size=batch_size)\n",
        "\n",
        "\n",
        "\n",
        "countPotholePos = 0\n",
        "countPotholeNeg = 0\n",
        "for indexForPotCount in range(len(y_res)):\n",
        "  if y_res[indexForPotCount] < 0.5:\n",
        "    countPotholeNeg = countPotholeNeg + 1\n",
        "  else:\n",
        "    countPotholePos = countPotholePos + 1\n",
        "print('number of negative potholes is', countPotholeNeg)\n",
        "print('number of positive potholes is', countPotholePos)\n",
        "print('Percentage of potholes data that are have a pothole', (countPotholePos)/(countPotholeNeg + countPotholePos) * 100)\n",
        "\n",
        "epochs = 50\n",
        "train = model.fit(train_data_SMOTE, validation_data=val_data_SMOTE, epochs=epochs)"
      ],
      "execution_count": null,
      "outputs": []
    },
    {
      "cell_type": "code",
      "metadata": {
        "id": "9vggw9vmEHYi",
        "outputId": "164f3280-2273-4d43-a489-18df89b52df0",
        "colab": {
          "base_uri": "https://localhost:8080/",
          "height": 1000
        }
      },
      "source": [
        "history = pd.DataFrame(train.history)\n",
        "\n",
        "print(history)\n",
        "\n",
        "from matplotlib import pyplot as plt\n",
        "\n",
        "plt.figure(figsize=(8, 8))\n",
        "\n",
        "plt.subplot(2, 2, 1)\n",
        "plt.plot(history['loss'], label='train')\n",
        "plt.plot(history['val_loss'], label='val')\n",
        "plt.xlabel('epoch')\n",
        "plt.legend(loc='upper right')\n",
        "plt.title('loss')\n",
        "\n",
        "plt.subplot(2, 2, 2)\n",
        "plt.plot(history['f1'], label='train')\n",
        "plt.plot(history['val_f1'], label='val')\n",
        "plt.xlabel('epoch')\n",
        "plt.legend(loc='lower right')\n",
        "plt.title('f1')\n",
        "\n",
        "plt.subplot(2, 2, 3)\n",
        "plt.plot(history['accuracy'], label='train')\n",
        "plt.plot(history['val_accuracy'], label='val')\n",
        "plt.xlabel('epoch')\n",
        "plt.legend(loc='lower right')\n",
        "plt.title('accuracy')\n",
        "\n",
        "plt.subplot(2, 2, 4)\n",
        "plt.plot(history[history.keys()[3]], label='train')\n",
        "plt.plot(history[history.keys()[7]], label='val')\n",
        "plt.xlabel('epoch')\n",
        "plt.legend(loc='upper right')\n",
        "plt.title('auc')\n",
        "\n",
        "plt.tight_layout()\n",
        "plt.show()"
      ],
      "execution_count": null,
      "outputs": []
    }
  ]
}